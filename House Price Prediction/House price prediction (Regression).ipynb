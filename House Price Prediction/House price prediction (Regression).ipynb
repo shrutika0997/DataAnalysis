{
 "cells": [
  {
   "cell_type": "markdown",
   "metadata": {},
   "source": [
    "# House Price Prediction "
   ]
  },
  {
   "cell_type": "markdown",
   "metadata": {},
   "source": [
    "## <i>Description of Dataset </i>"
   ]
  },
  {
   "cell_type": "markdown",
   "metadata": {},
   "source": [
    "In this dataset we have to predict the sales price of houses in King County, Seattle. It includes homes sold between May 2014 and May 2015. Before doing anything we should first know about the dataset what it contains what are its features and what is the structure of data.\n",
    "\n",
    "The dataset cantains 20 house features plus the price, along with 21613 observations."
   ]
  },
  {
   "cell_type": "markdown",
   "metadata": {},
   "source": [
    "## <i>List of Attributes</i>"
   ]
  },
  {
   "cell_type": "markdown",
   "metadata": {},
   "source": [
    "1. <b>id</b> - It is the unique numeric number assigned to each house being sold.\n",
    "2. <b>date</b> - It is the date on which the house was sold out.\n",
    "3. <b>price</b> - It is the price of house which we have to predict so this is our target variable and aprat from it are our features.\n",
    "4. <b>bedrooms</b> - It determines number of bedrooms in a house.\n",
    "5. <b>bathrooms</b> - It determines number of bathrooms in a bedroom of a house.\n",
    "6. <b>sqft_living</b> - It is the measurement variable which determines the measurement of house in square foot.\n",
    "7. <b>sqft_lot</b> - It is also the measurement variable which determines square foot of the lot.\n",
    "8. <b>floors</b> - It determines total floors means levels of house.\n",
    "9. <b>waterfront</b> - This feature determines whether a house has a view to waterfront 0 means no 1 means yes.\n",
    "10. <b>view</b> - This feature determines whether a house has been viewed or not 0 means no 1 means yes.\n",
    "11. <b>condition</b> - It determines the overall condition of a house on a scale of 1 to 5.\n",
    "12. <b>grade</b> - It determines the overall grade given to the housing unit, based on King County grading system on a scale of 1 to 11.\n",
    "13. <b>sqft_above</b> - It determines square footage of house apart from basement.\n",
    "14. <b>sqft_basement</b> - It determines square footage of the basement of the house.\n",
    "15. <b>yr_built</b> - It detrmines the date of building of the house.\n",
    "16. <b>yr_renovated</b> - It detrmines year of renovation of house.\n",
    "17. <b>zipcode</b> - It determines the zipcode of the location of the house.\n",
    "18. <b>lat</b> - It determines the latitude of the location of the house.\n",
    "19. <b>long</b> - It determines the longitude of the location of the house.\n",
    "20. <b>sqft_living15</b> - Living room area in 2015(implies-- some renovations)\n",
    "21. <b>sqft_lot15</b> - lotSize area in 2015(implies-- some renovations)"
   ]
  },
  {
   "cell_type": "markdown",
   "metadata": {},
   "source": [
    "## <i>Objective</i>"
   ]
  },
  {
   "cell_type": "markdown",
   "metadata": {},
   "source": [
    "The objective of this project is to perform data cleansing, and required transformations. The basic goal is to build a predictive model which will predict the prices of houses."
   ]
  },
  {
   "cell_type": "markdown",
   "metadata": {},
   "source": [
    "### Import Libraries"
   ]
  },
  {
   "cell_type": "code",
   "execution_count": 1,
   "metadata": {},
   "outputs": [],
   "source": [
    "import warnings\n",
    "import pandas as pd\n",
    "import numpy as np\n",
    "from scipy.stats import pearsonr\n",
    "import matplotlib.pyplot as plt\n",
    "from sklearn.preprocessing import StandardScaler\n",
    "from statsmodels.stats.outliers_influence import variance_inflation_factor as vif\n",
    "import seaborn as sns\n",
    "from sklearn.model_selection import train_test_split\n",
    "from sklearn.linear_model import LinearRegression\n",
    "from time import time\n",
    "from sklearn.metrics import explained_variance_score,mean_squared_error\n",
    "from sklearn.tree import DecisionTreeRegressor\n",
    "from sklearn.ensemble import RandomForestRegressor\n",
    "from sklearn.ensemble import GradientBoostingRegressor\n",
    "from xgboost import XGBRegressor"
   ]
  },
  {
   "cell_type": "markdown",
   "metadata": {},
   "source": [
    "### Load data"
   ]
  },
  {
   "cell_type": "code",
   "execution_count": 2,
   "metadata": {},
   "outputs": [
    {
     "data": {
      "text/html": [
       "<div>\n",
       "<style scoped>\n",
       "    .dataframe tbody tr th:only-of-type {\n",
       "        vertical-align: middle;\n",
       "    }\n",
       "\n",
       "    .dataframe tbody tr th {\n",
       "        vertical-align: top;\n",
       "    }\n",
       "\n",
       "    .dataframe thead th {\n",
       "        text-align: right;\n",
       "    }\n",
       "</style>\n",
       "<table border=\"1\" class=\"dataframe\">\n",
       "  <thead>\n",
       "    <tr style=\"text-align: right;\">\n",
       "      <th></th>\n",
       "      <th>id</th>\n",
       "      <th>date</th>\n",
       "      <th>price</th>\n",
       "      <th>bedrooms</th>\n",
       "      <th>bathrooms</th>\n",
       "      <th>sqft_living</th>\n",
       "      <th>sqft_lot</th>\n",
       "      <th>floors</th>\n",
       "      <th>waterfront</th>\n",
       "      <th>view</th>\n",
       "      <th>...</th>\n",
       "      <th>grade</th>\n",
       "      <th>sqft_above</th>\n",
       "      <th>sqft_basement</th>\n",
       "      <th>yr_built</th>\n",
       "      <th>yr_renovated</th>\n",
       "      <th>zipcode</th>\n",
       "      <th>lat</th>\n",
       "      <th>long</th>\n",
       "      <th>sqft_living15</th>\n",
       "      <th>sqft_lot15</th>\n",
       "    </tr>\n",
       "  </thead>\n",
       "  <tbody>\n",
       "    <tr>\n",
       "      <th>0</th>\n",
       "      <td>7129300520</td>\n",
       "      <td>20141013T000000</td>\n",
       "      <td>221900.0</td>\n",
       "      <td>3</td>\n",
       "      <td>1.00</td>\n",
       "      <td>1180</td>\n",
       "      <td>5650</td>\n",
       "      <td>1.0</td>\n",
       "      <td>0</td>\n",
       "      <td>0</td>\n",
       "      <td>...</td>\n",
       "      <td>7</td>\n",
       "      <td>1180</td>\n",
       "      <td>0</td>\n",
       "      <td>1955</td>\n",
       "      <td>0</td>\n",
       "      <td>98178</td>\n",
       "      <td>47.5112</td>\n",
       "      <td>-122.257</td>\n",
       "      <td>1340</td>\n",
       "      <td>5650</td>\n",
       "    </tr>\n",
       "    <tr>\n",
       "      <th>1</th>\n",
       "      <td>6414100192</td>\n",
       "      <td>20141209T000000</td>\n",
       "      <td>538000.0</td>\n",
       "      <td>3</td>\n",
       "      <td>2.25</td>\n",
       "      <td>2570</td>\n",
       "      <td>7242</td>\n",
       "      <td>2.0</td>\n",
       "      <td>0</td>\n",
       "      <td>0</td>\n",
       "      <td>...</td>\n",
       "      <td>7</td>\n",
       "      <td>2170</td>\n",
       "      <td>400</td>\n",
       "      <td>1951</td>\n",
       "      <td>1991</td>\n",
       "      <td>98125</td>\n",
       "      <td>47.7210</td>\n",
       "      <td>-122.319</td>\n",
       "      <td>1690</td>\n",
       "      <td>7639</td>\n",
       "    </tr>\n",
       "    <tr>\n",
       "      <th>2</th>\n",
       "      <td>5631500400</td>\n",
       "      <td>20150225T000000</td>\n",
       "      <td>180000.0</td>\n",
       "      <td>2</td>\n",
       "      <td>1.00</td>\n",
       "      <td>770</td>\n",
       "      <td>10000</td>\n",
       "      <td>1.0</td>\n",
       "      <td>0</td>\n",
       "      <td>0</td>\n",
       "      <td>...</td>\n",
       "      <td>6</td>\n",
       "      <td>770</td>\n",
       "      <td>0</td>\n",
       "      <td>1933</td>\n",
       "      <td>0</td>\n",
       "      <td>98028</td>\n",
       "      <td>47.7379</td>\n",
       "      <td>-122.233</td>\n",
       "      <td>2720</td>\n",
       "      <td>8062</td>\n",
       "    </tr>\n",
       "    <tr>\n",
       "      <th>3</th>\n",
       "      <td>2487200875</td>\n",
       "      <td>20141209T000000</td>\n",
       "      <td>604000.0</td>\n",
       "      <td>4</td>\n",
       "      <td>3.00</td>\n",
       "      <td>1960</td>\n",
       "      <td>5000</td>\n",
       "      <td>1.0</td>\n",
       "      <td>0</td>\n",
       "      <td>0</td>\n",
       "      <td>...</td>\n",
       "      <td>7</td>\n",
       "      <td>1050</td>\n",
       "      <td>910</td>\n",
       "      <td>1965</td>\n",
       "      <td>0</td>\n",
       "      <td>98136</td>\n",
       "      <td>47.5208</td>\n",
       "      <td>-122.393</td>\n",
       "      <td>1360</td>\n",
       "      <td>5000</td>\n",
       "    </tr>\n",
       "    <tr>\n",
       "      <th>4</th>\n",
       "      <td>1954400510</td>\n",
       "      <td>20150218T000000</td>\n",
       "      <td>510000.0</td>\n",
       "      <td>3</td>\n",
       "      <td>2.00</td>\n",
       "      <td>1680</td>\n",
       "      <td>8080</td>\n",
       "      <td>1.0</td>\n",
       "      <td>0</td>\n",
       "      <td>0</td>\n",
       "      <td>...</td>\n",
       "      <td>8</td>\n",
       "      <td>1680</td>\n",
       "      <td>0</td>\n",
       "      <td>1987</td>\n",
       "      <td>0</td>\n",
       "      <td>98074</td>\n",
       "      <td>47.6168</td>\n",
       "      <td>-122.045</td>\n",
       "      <td>1800</td>\n",
       "      <td>7503</td>\n",
       "    </tr>\n",
       "  </tbody>\n",
       "</table>\n",
       "<p>5 rows × 21 columns</p>\n",
       "</div>"
      ],
      "text/plain": [
       "           id             date     price  bedrooms  bathrooms  sqft_living  \\\n",
       "0  7129300520  20141013T000000  221900.0         3       1.00         1180   \n",
       "1  6414100192  20141209T000000  538000.0         3       2.25         2570   \n",
       "2  5631500400  20150225T000000  180000.0         2       1.00          770   \n",
       "3  2487200875  20141209T000000  604000.0         4       3.00         1960   \n",
       "4  1954400510  20150218T000000  510000.0         3       2.00         1680   \n",
       "\n",
       "   sqft_lot  floors  waterfront  view  ...  grade  sqft_above  sqft_basement  \\\n",
       "0      5650     1.0           0     0  ...      7        1180              0   \n",
       "1      7242     2.0           0     0  ...      7        2170            400   \n",
       "2     10000     1.0           0     0  ...      6         770              0   \n",
       "3      5000     1.0           0     0  ...      7        1050            910   \n",
       "4      8080     1.0           0     0  ...      8        1680              0   \n",
       "\n",
       "   yr_built  yr_renovated  zipcode      lat     long  sqft_living15  \\\n",
       "0      1955             0    98178  47.5112 -122.257           1340   \n",
       "1      1951          1991    98125  47.7210 -122.319           1690   \n",
       "2      1933             0    98028  47.7379 -122.233           2720   \n",
       "3      1965             0    98136  47.5208 -122.393           1360   \n",
       "4      1987             0    98074  47.6168 -122.045           1800   \n",
       "\n",
       "   sqft_lot15  \n",
       "0        5650  \n",
       "1        7639  \n",
       "2        8062  \n",
       "3        5000  \n",
       "4        7503  \n",
       "\n",
       "[5 rows x 21 columns]"
      ]
     },
     "execution_count": 2,
     "metadata": {},
     "output_type": "execute_result"
    }
   ],
   "source": [
    "warnings.filterwarnings(\"ignore\") # to ignore warnings\n",
    "house = pd.read_csv(r\"C:\\Users\\intel\\Desktop\\Datasets\\house_data.csv\", header = 0)\n",
    "house.head()"
   ]
  },
  {
   "cell_type": "markdown",
   "metadata": {},
   "source": [
    "## Data Pre-Processing"
   ]
  },
  {
   "cell_type": "code",
   "execution_count": 3,
   "metadata": {},
   "outputs": [
    {
     "data": {
      "text/html": [
       "<div>\n",
       "<style scoped>\n",
       "    .dataframe tbody tr th:only-of-type {\n",
       "        vertical-align: middle;\n",
       "    }\n",
       "\n",
       "    .dataframe tbody tr th {\n",
       "        vertical-align: top;\n",
       "    }\n",
       "\n",
       "    .dataframe thead th {\n",
       "        text-align: right;\n",
       "    }\n",
       "</style>\n",
       "<table border=\"1\" class=\"dataframe\">\n",
       "  <thead>\n",
       "    <tr style=\"text-align: right;\">\n",
       "      <th></th>\n",
       "      <th>id</th>\n",
       "      <th>date</th>\n",
       "      <th>SalePrice</th>\n",
       "      <th>Bedrooms</th>\n",
       "      <th>Bathrooms</th>\n",
       "      <th>LivingSpace</th>\n",
       "      <th>LandSpace</th>\n",
       "      <th>Floors</th>\n",
       "      <th>Waterfront</th>\n",
       "      <th>View</th>\n",
       "      <th>...</th>\n",
       "      <th>Grade</th>\n",
       "      <th>Above_sqft</th>\n",
       "      <th>Basement</th>\n",
       "      <th>YearBuilt</th>\n",
       "      <th>Renovation</th>\n",
       "      <th>Zipcode</th>\n",
       "      <th>Latitude</th>\n",
       "      <th>Longitude</th>\n",
       "      <th>LivingSpace15</th>\n",
       "      <th>LandSpace15</th>\n",
       "    </tr>\n",
       "  </thead>\n",
       "  <tbody>\n",
       "    <tr>\n",
       "      <th>0</th>\n",
       "      <td>7129300520</td>\n",
       "      <td>20141013T000000</td>\n",
       "      <td>221900.0</td>\n",
       "      <td>3</td>\n",
       "      <td>1.00</td>\n",
       "      <td>1180</td>\n",
       "      <td>5650</td>\n",
       "      <td>1.0</td>\n",
       "      <td>0</td>\n",
       "      <td>0</td>\n",
       "      <td>...</td>\n",
       "      <td>7</td>\n",
       "      <td>1180</td>\n",
       "      <td>0</td>\n",
       "      <td>1955</td>\n",
       "      <td>0</td>\n",
       "      <td>98178</td>\n",
       "      <td>47.5112</td>\n",
       "      <td>-122.257</td>\n",
       "      <td>1340</td>\n",
       "      <td>5650</td>\n",
       "    </tr>\n",
       "    <tr>\n",
       "      <th>1</th>\n",
       "      <td>6414100192</td>\n",
       "      <td>20141209T000000</td>\n",
       "      <td>538000.0</td>\n",
       "      <td>3</td>\n",
       "      <td>2.25</td>\n",
       "      <td>2570</td>\n",
       "      <td>7242</td>\n",
       "      <td>2.0</td>\n",
       "      <td>0</td>\n",
       "      <td>0</td>\n",
       "      <td>...</td>\n",
       "      <td>7</td>\n",
       "      <td>2170</td>\n",
       "      <td>400</td>\n",
       "      <td>1951</td>\n",
       "      <td>1991</td>\n",
       "      <td>98125</td>\n",
       "      <td>47.7210</td>\n",
       "      <td>-122.319</td>\n",
       "      <td>1690</td>\n",
       "      <td>7639</td>\n",
       "    </tr>\n",
       "    <tr>\n",
       "      <th>2</th>\n",
       "      <td>5631500400</td>\n",
       "      <td>20150225T000000</td>\n",
       "      <td>180000.0</td>\n",
       "      <td>2</td>\n",
       "      <td>1.00</td>\n",
       "      <td>770</td>\n",
       "      <td>10000</td>\n",
       "      <td>1.0</td>\n",
       "      <td>0</td>\n",
       "      <td>0</td>\n",
       "      <td>...</td>\n",
       "      <td>6</td>\n",
       "      <td>770</td>\n",
       "      <td>0</td>\n",
       "      <td>1933</td>\n",
       "      <td>0</td>\n",
       "      <td>98028</td>\n",
       "      <td>47.7379</td>\n",
       "      <td>-122.233</td>\n",
       "      <td>2720</td>\n",
       "      <td>8062</td>\n",
       "    </tr>\n",
       "    <tr>\n",
       "      <th>3</th>\n",
       "      <td>2487200875</td>\n",
       "      <td>20141209T000000</td>\n",
       "      <td>604000.0</td>\n",
       "      <td>4</td>\n",
       "      <td>3.00</td>\n",
       "      <td>1960</td>\n",
       "      <td>5000</td>\n",
       "      <td>1.0</td>\n",
       "      <td>0</td>\n",
       "      <td>0</td>\n",
       "      <td>...</td>\n",
       "      <td>7</td>\n",
       "      <td>1050</td>\n",
       "      <td>910</td>\n",
       "      <td>1965</td>\n",
       "      <td>0</td>\n",
       "      <td>98136</td>\n",
       "      <td>47.5208</td>\n",
       "      <td>-122.393</td>\n",
       "      <td>1360</td>\n",
       "      <td>5000</td>\n",
       "    </tr>\n",
       "    <tr>\n",
       "      <th>4</th>\n",
       "      <td>1954400510</td>\n",
       "      <td>20150218T000000</td>\n",
       "      <td>510000.0</td>\n",
       "      <td>3</td>\n",
       "      <td>2.00</td>\n",
       "      <td>1680</td>\n",
       "      <td>8080</td>\n",
       "      <td>1.0</td>\n",
       "      <td>0</td>\n",
       "      <td>0</td>\n",
       "      <td>...</td>\n",
       "      <td>8</td>\n",
       "      <td>1680</td>\n",
       "      <td>0</td>\n",
       "      <td>1987</td>\n",
       "      <td>0</td>\n",
       "      <td>98074</td>\n",
       "      <td>47.6168</td>\n",
       "      <td>-122.045</td>\n",
       "      <td>1800</td>\n",
       "      <td>7503</td>\n",
       "    </tr>\n",
       "  </tbody>\n",
       "</table>\n",
       "<p>5 rows × 21 columns</p>\n",
       "</div>"
      ],
      "text/plain": [
       "           id             date  SalePrice  Bedrooms  Bathrooms  LivingSpace  \\\n",
       "0  7129300520  20141013T000000   221900.0         3       1.00         1180   \n",
       "1  6414100192  20141209T000000   538000.0         3       2.25         2570   \n",
       "2  5631500400  20150225T000000   180000.0         2       1.00          770   \n",
       "3  2487200875  20141209T000000   604000.0         4       3.00         1960   \n",
       "4  1954400510  20150218T000000   510000.0         3       2.00         1680   \n",
       "\n",
       "   LandSpace  Floors  Waterfront  View  ...  Grade  Above_sqft  Basement  \\\n",
       "0       5650     1.0           0     0  ...      7        1180         0   \n",
       "1       7242     2.0           0     0  ...      7        2170       400   \n",
       "2      10000     1.0           0     0  ...      6         770         0   \n",
       "3       5000     1.0           0     0  ...      7        1050       910   \n",
       "4       8080     1.0           0     0  ...      8        1680         0   \n",
       "\n",
       "   YearBuilt  Renovation  Zipcode  Latitude  Longitude  LivingSpace15  \\\n",
       "0       1955           0    98178   47.5112   -122.257           1340   \n",
       "1       1951        1991    98125   47.7210   -122.319           1690   \n",
       "2       1933           0    98028   47.7379   -122.233           2720   \n",
       "3       1965           0    98136   47.5208   -122.393           1360   \n",
       "4       1987           0    98074   47.6168   -122.045           1800   \n",
       "\n",
       "   LandSpace15  \n",
       "0         5650  \n",
       "1         7639  \n",
       "2         8062  \n",
       "3         5000  \n",
       "4         7503  \n",
       "\n",
       "[5 rows x 21 columns]"
      ]
     },
     "execution_count": 3,
     "metadata": {},
     "output_type": "execute_result"
    }
   ],
   "source": [
    "house1=house.copy()\n",
    "house1.rename(columns={'price':'SalePrice','bedrooms':'Bedrooms', 'bathrooms':'Bathrooms', 'sqft_living':'LivingSpace',\n",
    "                       'sqft_lot':'LandSpace', 'floors':'Floors', 'waterfront':'Waterfront', 'view':'View', \n",
    "                       'condition':'Condition','grade':'Grade','sqft_above':'Above_sqft', 'sqft_basement':'Basement', \n",
    "                       'yr_built':'YearBuilt', 'yr_renovated':'Renovation', 'zipcode':'Zipcode','lat':'Latitude', \n",
    "                       'long':'Longitude', 'sqft_living15':'LivingSpace15', 'sqft_lot15':'LandSpace15'},inplace=True)\n",
    "house1.head()"
   ]
  },
  {
   "cell_type": "code",
   "execution_count": 4,
   "metadata": {
    "scrolled": true
   },
   "outputs": [
    {
     "name": "stdout",
     "output_type": "stream",
     "text": [
      "<class 'pandas.core.frame.DataFrame'>\n",
      "RangeIndex: 21613 entries, 0 to 21612\n",
      "Data columns (total 21 columns):\n",
      " #   Column         Non-Null Count  Dtype  \n",
      "---  ------         --------------  -----  \n",
      " 0   id             21613 non-null  int64  \n",
      " 1   date           21613 non-null  object \n",
      " 2   SalePrice      21613 non-null  float64\n",
      " 3   Bedrooms       21613 non-null  int64  \n",
      " 4   Bathrooms      21613 non-null  float64\n",
      " 5   LivingSpace    21613 non-null  int64  \n",
      " 6   LandSpace      21613 non-null  int64  \n",
      " 7   Floors         21613 non-null  float64\n",
      " 8   Waterfront     21613 non-null  int64  \n",
      " 9   View           21613 non-null  int64  \n",
      " 10  Condition      21613 non-null  int64  \n",
      " 11  Grade          21613 non-null  int64  \n",
      " 12  Above_sqft     21613 non-null  int64  \n",
      " 13  Basement       21613 non-null  int64  \n",
      " 14  YearBuilt      21613 non-null  int64  \n",
      " 15  Renovation     21613 non-null  int64  \n",
      " 16  Zipcode        21613 non-null  int64  \n",
      " 17  Latitude       21613 non-null  float64\n",
      " 18  Longitude      21613 non-null  float64\n",
      " 19  LivingSpace15  21613 non-null  int64  \n",
      " 20  LandSpace15    21613 non-null  int64  \n",
      "dtypes: float64(5), int64(15), object(1)\n",
      "memory usage: 3.5+ MB\n",
      "None\n",
      "                 id     SalePrice      Bedrooms     Bathrooms   LivingSpace  \\\n",
      "count  2.161300e+04  2.161300e+04  21613.000000  21613.000000  21613.000000   \n",
      "mean   4.580302e+09  5.401822e+05      3.370842      2.114757   2079.899736   \n",
      "std    2.876566e+09  3.673622e+05      0.930062      0.770163    918.440897   \n",
      "min    1.000102e+06  7.500000e+04      0.000000      0.000000    290.000000   \n",
      "25%    2.123049e+09  3.219500e+05      3.000000      1.750000   1427.000000   \n",
      "50%    3.904930e+09  4.500000e+05      3.000000      2.250000   1910.000000   \n",
      "75%    7.308900e+09  6.450000e+05      4.000000      2.500000   2550.000000   \n",
      "max    9.900000e+09  7.700000e+06     33.000000      8.000000  13540.000000   \n",
      "\n",
      "          LandSpace        Floors    Waterfront          View     Condition  \\\n",
      "count  2.161300e+04  21613.000000  21613.000000  21613.000000  21613.000000   \n",
      "mean   1.510697e+04      1.494309      0.007542      0.234303      3.409430   \n",
      "std    4.142051e+04      0.539989      0.086517      0.766318      0.650743   \n",
      "min    5.200000e+02      1.000000      0.000000      0.000000      1.000000   \n",
      "25%    5.040000e+03      1.000000      0.000000      0.000000      3.000000   \n",
      "50%    7.618000e+03      1.500000      0.000000      0.000000      3.000000   \n",
      "75%    1.068800e+04      2.000000      0.000000      0.000000      4.000000   \n",
      "max    1.651359e+06      3.500000      1.000000      4.000000      5.000000   \n",
      "\n",
      "              Grade    Above_sqft      Basement     YearBuilt    Renovation  \\\n",
      "count  21613.000000  21613.000000  21613.000000  21613.000000  21613.000000   \n",
      "mean       7.656873   1788.390691    291.509045   1971.005136     84.402258   \n",
      "std        1.175459    828.090978    442.575043     29.373411    401.679240   \n",
      "min        1.000000    290.000000      0.000000   1900.000000      0.000000   \n",
      "25%        7.000000   1190.000000      0.000000   1951.000000      0.000000   \n",
      "50%        7.000000   1560.000000      0.000000   1975.000000      0.000000   \n",
      "75%        8.000000   2210.000000    560.000000   1997.000000      0.000000   \n",
      "max       13.000000   9410.000000   4820.000000   2015.000000   2015.000000   \n",
      "\n",
      "            Zipcode      Latitude     Longitude  LivingSpace15    LandSpace15  \n",
      "count  21613.000000  21613.000000  21613.000000   21613.000000   21613.000000  \n",
      "mean   98077.939805     47.560053   -122.213896    1986.552492   12768.455652  \n",
      "std       53.505026      0.138564      0.140828     685.391304   27304.179631  \n",
      "min    98001.000000     47.155900   -122.519000     399.000000     651.000000  \n",
      "25%    98033.000000     47.471000   -122.328000    1490.000000    5100.000000  \n",
      "50%    98065.000000     47.571800   -122.230000    1840.000000    7620.000000  \n",
      "75%    98118.000000     47.678000   -122.125000    2360.000000   10083.000000  \n",
      "max    98199.000000     47.777600   -121.315000    6210.000000  871200.000000  \n"
     ]
    }
   ],
   "source": [
    "#to get information of data(i.e.data type of variable & also whether it contains null values or not\n",
    "print(house1.info()) \n",
    "\n",
    "# to get summary statistics of data\n",
    "print(house1.describe())"
   ]
  },
  {
   "cell_type": "markdown",
   "metadata": {},
   "source": [
    "### <i>Correlations w.r.t SalePrice</i>"
   ]
  },
  {
   "cell_type": "code",
   "execution_count": 5,
   "metadata": {},
   "outputs": [],
   "source": [
    "features = house1.iloc[:,3:].columns.tolist()\n",
    "target = house1.iloc[:,2].name"
   ]
  },
  {
   "cell_type": "code",
   "execution_count": 6,
   "metadata": {},
   "outputs": [],
   "source": [
    "# Finding Correlation of SalePrice with other variables to see how many variables are strongly correlated with SalePrice\n",
    "correlations = {}\n",
    "for f in features:\n",
    "    house_tp = house1[[f,target]]\n",
    "    x1 = house_tp[f].values\n",
    "    x2 = house_tp[target].values\n",
    "    key = f + ' vs ' + target\n",
    "    correlations[key] = pearsonr(x1,x2)[0]"
   ]
  },
  {
   "cell_type": "code",
   "execution_count": 7,
   "metadata": {
    "scrolled": true
   },
   "outputs": [
    {
     "data": {
      "text/html": [
       "<div>\n",
       "<style scoped>\n",
       "    .dataframe tbody tr th:only-of-type {\n",
       "        vertical-align: middle;\n",
       "    }\n",
       "\n",
       "    .dataframe tbody tr th {\n",
       "        vertical-align: top;\n",
       "    }\n",
       "\n",
       "    .dataframe thead th {\n",
       "        text-align: right;\n",
       "    }\n",
       "</style>\n",
       "<table border=\"1\" class=\"dataframe\">\n",
       "  <thead>\n",
       "    <tr style=\"text-align: right;\">\n",
       "      <th></th>\n",
       "      <th>Value</th>\n",
       "    </tr>\n",
       "  </thead>\n",
       "  <tbody>\n",
       "    <tr>\n",
       "      <th>LivingSpace vs SalePrice</th>\n",
       "      <td>0.702044</td>\n",
       "    </tr>\n",
       "    <tr>\n",
       "      <th>Grade vs SalePrice</th>\n",
       "      <td>0.667463</td>\n",
       "    </tr>\n",
       "    <tr>\n",
       "      <th>Above_sqft vs SalePrice</th>\n",
       "      <td>0.605566</td>\n",
       "    </tr>\n",
       "    <tr>\n",
       "      <th>LivingSpace15 vs SalePrice</th>\n",
       "      <td>0.585374</td>\n",
       "    </tr>\n",
       "    <tr>\n",
       "      <th>Bathrooms vs SalePrice</th>\n",
       "      <td>0.525134</td>\n",
       "    </tr>\n",
       "    <tr>\n",
       "      <th>View vs SalePrice</th>\n",
       "      <td>0.397346</td>\n",
       "    </tr>\n",
       "    <tr>\n",
       "      <th>Basement vs SalePrice</th>\n",
       "      <td>0.323837</td>\n",
       "    </tr>\n",
       "    <tr>\n",
       "      <th>Bedrooms vs SalePrice</th>\n",
       "      <td>0.308338</td>\n",
       "    </tr>\n",
       "    <tr>\n",
       "      <th>Latitude vs SalePrice</th>\n",
       "      <td>0.306919</td>\n",
       "    </tr>\n",
       "    <tr>\n",
       "      <th>Waterfront vs SalePrice</th>\n",
       "      <td>0.266331</td>\n",
       "    </tr>\n",
       "    <tr>\n",
       "      <th>Floors vs SalePrice</th>\n",
       "      <td>0.256786</td>\n",
       "    </tr>\n",
       "    <tr>\n",
       "      <th>Renovation vs SalePrice</th>\n",
       "      <td>0.126442</td>\n",
       "    </tr>\n",
       "    <tr>\n",
       "      <th>LandSpace vs SalePrice</th>\n",
       "      <td>0.089655</td>\n",
       "    </tr>\n",
       "    <tr>\n",
       "      <th>LandSpace15 vs SalePrice</th>\n",
       "      <td>0.082456</td>\n",
       "    </tr>\n",
       "    <tr>\n",
       "      <th>YearBuilt vs SalePrice</th>\n",
       "      <td>0.053982</td>\n",
       "    </tr>\n",
       "    <tr>\n",
       "      <th>Zipcode vs SalePrice</th>\n",
       "      <td>-0.053168</td>\n",
       "    </tr>\n",
       "    <tr>\n",
       "      <th>Condition vs SalePrice</th>\n",
       "      <td>0.036392</td>\n",
       "    </tr>\n",
       "    <tr>\n",
       "      <th>Longitude vs SalePrice</th>\n",
       "      <td>0.021571</td>\n",
       "    </tr>\n",
       "  </tbody>\n",
       "</table>\n",
       "</div>"
      ],
      "text/plain": [
       "                               Value\n",
       "LivingSpace vs SalePrice    0.702044\n",
       "Grade vs SalePrice          0.667463\n",
       "Above_sqft vs SalePrice     0.605566\n",
       "LivingSpace15 vs SalePrice  0.585374\n",
       "Bathrooms vs SalePrice      0.525134\n",
       "View vs SalePrice           0.397346\n",
       "Basement vs SalePrice       0.323837\n",
       "Bedrooms vs SalePrice       0.308338\n",
       "Latitude vs SalePrice       0.306919\n",
       "Waterfront vs SalePrice     0.266331\n",
       "Floors vs SalePrice         0.256786\n",
       "Renovation vs SalePrice     0.126442\n",
       "LandSpace vs SalePrice      0.089655\n",
       "LandSpace15 vs SalePrice    0.082456\n",
       "YearBuilt vs SalePrice      0.053982\n",
       "Zipcode vs SalePrice       -0.053168\n",
       "Condition vs SalePrice      0.036392\n",
       "Longitude vs SalePrice      0.021571"
      ]
     },
     "execution_count": 7,
     "metadata": {},
     "output_type": "execute_result"
    }
   ],
   "source": [
    "# Printing all the correlated features value with respect to SalePrice which is our target variable\n",
    "house_corr = pd.DataFrame(correlations, index=['Value']).T\n",
    "house_corr.loc[house_corr['Value'].abs().sort_values(ascending=False).index]"
   ]
  },
  {
   "cell_type": "markdown",
   "metadata": {},
   "source": [
    "As zipcode is negatively correlated with price, we can discard it for sales prediction"
   ]
  },
  {
   "cell_type": "markdown",
   "metadata": {},
   "source": [
    "### <i>Variance Inflation Factor</i>"
   ]
  },
  {
   "cell_type": "code",
   "execution_count": 8,
   "metadata": {},
   "outputs": [],
   "source": [
    "features = house1.iloc[:,3:]\n",
    "target = house1.iloc[:,2]"
   ]
  },
  {
   "cell_type": "code",
   "execution_count": 9,
   "metadata": {},
   "outputs": [],
   "source": [
    "#standardizing the values\n",
    "scaler = StandardScaler()\n",
    "scaler.fit(features)\n",
    "x = scaler.transform(features)"
   ]
  },
  {
   "cell_type": "code",
   "execution_count": 10,
   "metadata": {
    "scrolled": true
   },
   "outputs": [
    {
     "data": {
      "text/html": [
       "<div>\n",
       "<style scoped>\n",
       "    .dataframe tbody tr th:only-of-type {\n",
       "        vertical-align: middle;\n",
       "    }\n",
       "\n",
       "    .dataframe tbody tr th {\n",
       "        vertical-align: top;\n",
       "    }\n",
       "\n",
       "    .dataframe thead th {\n",
       "        text-align: right;\n",
       "    }\n",
       "</style>\n",
       "<table border=\"1\" class=\"dataframe\">\n",
       "  <thead>\n",
       "    <tr style=\"text-align: right;\">\n",
       "      <th></th>\n",
       "      <th>features</th>\n",
       "      <th>VIF</th>\n",
       "    </tr>\n",
       "  </thead>\n",
       "  <tbody>\n",
       "    <tr>\n",
       "      <th>0</th>\n",
       "      <td>Bedrooms</td>\n",
       "      <td>1.7</td>\n",
       "    </tr>\n",
       "    <tr>\n",
       "      <th>1</th>\n",
       "      <td>Bathrooms</td>\n",
       "      <td>3.4</td>\n",
       "    </tr>\n",
       "    <tr>\n",
       "      <th>2</th>\n",
       "      <td>LivingSpace</td>\n",
       "      <td>inf</td>\n",
       "    </tr>\n",
       "    <tr>\n",
       "      <th>3</th>\n",
       "      <td>LandSpace</td>\n",
       "      <td>2.1</td>\n",
       "    </tr>\n",
       "    <tr>\n",
       "      <th>4</th>\n",
       "      <td>Floors</td>\n",
       "      <td>2.0</td>\n",
       "    </tr>\n",
       "    <tr>\n",
       "      <th>5</th>\n",
       "      <td>Waterfront</td>\n",
       "      <td>1.2</td>\n",
       "    </tr>\n",
       "    <tr>\n",
       "      <th>6</th>\n",
       "      <td>View</td>\n",
       "      <td>1.4</td>\n",
       "    </tr>\n",
       "    <tr>\n",
       "      <th>7</th>\n",
       "      <td>Condition</td>\n",
       "      <td>1.2</td>\n",
       "    </tr>\n",
       "    <tr>\n",
       "      <th>8</th>\n",
       "      <td>Grade</td>\n",
       "      <td>3.4</td>\n",
       "    </tr>\n",
       "    <tr>\n",
       "      <th>9</th>\n",
       "      <td>Above_sqft</td>\n",
       "      <td>inf</td>\n",
       "    </tr>\n",
       "    <tr>\n",
       "      <th>10</th>\n",
       "      <td>Basement</td>\n",
       "      <td>inf</td>\n",
       "    </tr>\n",
       "    <tr>\n",
       "      <th>11</th>\n",
       "      <td>YearBuilt</td>\n",
       "      <td>2.4</td>\n",
       "    </tr>\n",
       "    <tr>\n",
       "      <th>12</th>\n",
       "      <td>Renovation</td>\n",
       "      <td>1.2</td>\n",
       "    </tr>\n",
       "    <tr>\n",
       "      <th>13</th>\n",
       "      <td>Zipcode</td>\n",
       "      <td>1.7</td>\n",
       "    </tr>\n",
       "    <tr>\n",
       "      <th>14</th>\n",
       "      <td>Latitude</td>\n",
       "      <td>1.2</td>\n",
       "    </tr>\n",
       "    <tr>\n",
       "      <th>15</th>\n",
       "      <td>Longitude</td>\n",
       "      <td>1.8</td>\n",
       "    </tr>\n",
       "    <tr>\n",
       "      <th>16</th>\n",
       "      <td>LivingSpace15</td>\n",
       "      <td>3.0</td>\n",
       "    </tr>\n",
       "    <tr>\n",
       "      <th>17</th>\n",
       "      <td>LandSpace15</td>\n",
       "      <td>2.1</td>\n",
       "    </tr>\n",
       "  </tbody>\n",
       "</table>\n",
       "</div>"
      ],
      "text/plain": [
       "         features  VIF\n",
       "0        Bedrooms  1.7\n",
       "1       Bathrooms  3.4\n",
       "2     LivingSpace  inf\n",
       "3       LandSpace  2.1\n",
       "4          Floors  2.0\n",
       "5      Waterfront  1.2\n",
       "6            View  1.4\n",
       "7       Condition  1.2\n",
       "8           Grade  3.4\n",
       "9      Above_sqft  inf\n",
       "10       Basement  inf\n",
       "11      YearBuilt  2.4\n",
       "12     Renovation  1.2\n",
       "13        Zipcode  1.7\n",
       "14       Latitude  1.2\n",
       "15      Longitude  1.8\n",
       "16  LivingSpace15  3.0\n",
       "17    LandSpace15  2.1"
      ]
     },
     "execution_count": 10,
     "metadata": {},
     "output_type": "execute_result"
    }
   ],
   "source": [
    "x=pd.DataFrame(x)\n",
    "x.columns = ['Bedrooms', 'Bathrooms', 'LivingSpace','LandSpace', 'Floors', 'Waterfront', 'View', 'Condition', 'Grade',\n",
    "             'Above_sqft', 'Basement', 'YearBuilt', 'Renovation', 'Zipcode',\n",
    "             'Latitude', 'Longitude', 'LivingSpace15', 'LandSpace15']\n",
    "vif_house1 = pd.DataFrame()\n",
    "vif_house1[\"features\"] = x.columns\n",
    "vif_house1[\"VIF\"] = [vif(x.values, i) for i in range(x.shape[1])]\n",
    "vif_house1.round(1)"
   ]
  },
  {
   "cell_type": "markdown",
   "metadata": {},
   "source": [
    "As it is seen that LivingSpace, Above_sqft, Basement has VIF of 'inf' we will discard the variable one by one and again check the VIF for remaining variables"
   ]
  },
  {
   "cell_type": "code",
   "execution_count": 11,
   "metadata": {
    "scrolled": true
   },
   "outputs": [
    {
     "data": {
      "text/html": [
       "<div>\n",
       "<style scoped>\n",
       "    .dataframe tbody tr th:only-of-type {\n",
       "        vertical-align: middle;\n",
       "    }\n",
       "\n",
       "    .dataframe tbody tr th {\n",
       "        vertical-align: top;\n",
       "    }\n",
       "\n",
       "    .dataframe thead th {\n",
       "        text-align: right;\n",
       "    }\n",
       "</style>\n",
       "<table border=\"1\" class=\"dataframe\">\n",
       "  <thead>\n",
       "    <tr style=\"text-align: right;\">\n",
       "      <th></th>\n",
       "      <th>features</th>\n",
       "      <th>VIF</th>\n",
       "    </tr>\n",
       "  </thead>\n",
       "  <tbody>\n",
       "    <tr>\n",
       "      <th>0</th>\n",
       "      <td>Bedrooms</td>\n",
       "      <td>1.6</td>\n",
       "    </tr>\n",
       "    <tr>\n",
       "      <th>1</th>\n",
       "      <td>Bathrooms</td>\n",
       "      <td>3.3</td>\n",
       "    </tr>\n",
       "    <tr>\n",
       "      <th>2</th>\n",
       "      <td>LandSpace</td>\n",
       "      <td>2.1</td>\n",
       "    </tr>\n",
       "    <tr>\n",
       "      <th>3</th>\n",
       "      <td>Floors</td>\n",
       "      <td>2.0</td>\n",
       "    </tr>\n",
       "    <tr>\n",
       "      <th>4</th>\n",
       "      <td>Waterfront</td>\n",
       "      <td>1.2</td>\n",
       "    </tr>\n",
       "    <tr>\n",
       "      <th>5</th>\n",
       "      <td>View</td>\n",
       "      <td>1.4</td>\n",
       "    </tr>\n",
       "    <tr>\n",
       "      <th>6</th>\n",
       "      <td>Condition</td>\n",
       "      <td>1.2</td>\n",
       "    </tr>\n",
       "    <tr>\n",
       "      <th>7</th>\n",
       "      <td>Grade</td>\n",
       "      <td>3.4</td>\n",
       "    </tr>\n",
       "    <tr>\n",
       "      <th>8</th>\n",
       "      <td>Above_sqft</td>\n",
       "      <td>4.9</td>\n",
       "    </tr>\n",
       "    <tr>\n",
       "      <th>9</th>\n",
       "      <td>Basement</td>\n",
       "      <td>2.0</td>\n",
       "    </tr>\n",
       "    <tr>\n",
       "      <th>10</th>\n",
       "      <td>YearBuilt</td>\n",
       "      <td>2.4</td>\n",
       "    </tr>\n",
       "    <tr>\n",
       "      <th>11</th>\n",
       "      <td>Renovation</td>\n",
       "      <td>1.1</td>\n",
       "    </tr>\n",
       "    <tr>\n",
       "      <th>12</th>\n",
       "      <td>Latitude</td>\n",
       "      <td>1.1</td>\n",
       "    </tr>\n",
       "    <tr>\n",
       "      <th>13</th>\n",
       "      <td>Longitude</td>\n",
       "      <td>1.5</td>\n",
       "    </tr>\n",
       "    <tr>\n",
       "      <th>14</th>\n",
       "      <td>LivingSpace15</td>\n",
       "      <td>3.0</td>\n",
       "    </tr>\n",
       "    <tr>\n",
       "      <th>15</th>\n",
       "      <td>LandSpace15</td>\n",
       "      <td>2.1</td>\n",
       "    </tr>\n",
       "  </tbody>\n",
       "</table>\n",
       "</div>"
      ],
      "text/plain": [
       "         features  VIF\n",
       "0        Bedrooms  1.6\n",
       "1       Bathrooms  3.3\n",
       "2       LandSpace  2.1\n",
       "3          Floors  2.0\n",
       "4      Waterfront  1.2\n",
       "5            View  1.4\n",
       "6       Condition  1.2\n",
       "7           Grade  3.4\n",
       "8      Above_sqft  4.9\n",
       "9        Basement  2.0\n",
       "10      YearBuilt  2.4\n",
       "11     Renovation  1.1\n",
       "12       Latitude  1.1\n",
       "13      Longitude  1.5\n",
       "14  LivingSpace15  3.0\n",
       "15    LandSpace15  2.1"
      ]
     },
     "execution_count": 11,
     "metadata": {},
     "output_type": "execute_result"
    }
   ],
   "source": [
    "house2=x.copy()\n",
    "house2=x[['Bedrooms', 'Bathrooms', 'LandSpace', 'Floors', 'Waterfront', 'View', 'Condition', 'Grade',\n",
    "          'Above_sqft', 'Basement', 'YearBuilt', 'Renovation','Latitude', 'Longitude', 'LivingSpace15', 'LandSpace15']]\n",
    "vif_house1 = pd.DataFrame()\n",
    "vif_house1[\"features\"] = house2.columns\n",
    "vif_house1[\"VIF\"] = [vif(house2.values, i) for i in range(house2.shape[1])]\n",
    "vif_house1.round(1)"
   ]
  },
  {
   "cell_type": "markdown",
   "metadata": {},
   "source": [
    "Concluding that we have nominal values of VIF for the remaining variables, we further proceed for EDA"
   ]
  },
  {
   "cell_type": "markdown",
   "metadata": {},
   "source": [
    "## EDA"
   ]
  },
  {
   "cell_type": "code",
   "execution_count": 12,
   "metadata": {},
   "outputs": [],
   "source": [
    "sns.set(style=\"whitegrid\",font_scale=1)"
   ]
  },
  {
   "cell_type": "code",
   "execution_count": 13,
   "metadata": {
    "scrolled": true
   },
   "outputs": [
    {
     "data": {
      "text/plain": [
       "<matplotlib.axes._subplots.AxesSubplot at 0x1b6b5de3c48>"
      ]
     },
     "execution_count": 13,
     "metadata": {},
     "output_type": "execute_result"
    },
    {
     "data": {
      "image/png": "[encoded data removed]",
      "text/plain": [
       "<Figure size 864x288 with 1 Axes>"
      ]
     },
     "metadata": {},
     "output_type": "display_data"
    },
    {
     "data": {
      "image/png": "[encoded data removed]",
      "text/plain": [
       "<Figure size 864x288 with 1 Axes>"
      ]
     },
     "metadata": {},
     "output_type": "display_data"
    }
   ],
   "source": [
    "f, axes = plt.subplots(figsize=(12,4))\n",
    "sns.scatterplot(x=house1['LivingSpace15'],y=house1['SalePrice'])\n",
    "sns.despine(left=True, bottom=True)\n",
    "\n",
    "f, axe = plt.subplots(figsize=(12,4))\n",
    "sns.despine(left=True, bottom=True)\n",
    "sns.scatterplot(x=house1['Basement'],y=house1['SalePrice'], ax=axe)"
   ]
  },
  {
   "cell_type": "markdown",
   "metadata": {},
   "source": [
    "We can conclude that LivingSpace15, Basement shows some linear relationship with our target variable i.e. SalePrice"
   ]
  },
  {
   "cell_type": "code",
   "execution_count": 14,
   "metadata": {
    "scrolled": true
   },
   "outputs": [
    {
     "data": {
      "image/png": "[encoded data removed]",
      "text/plain": [
       "<Figure size 1296x576 with 2 Axes>"
      ]
     },
     "metadata": {},
     "output_type": "display_data"
    },
    {
     "data": {
      "image/png": "[encoded data removed]",
      "text/plain": [
       "<Figure size 1008x576 with 1 Axes>"
      ]
     },
     "metadata": {},
     "output_type": "display_data"
    }
   ],
   "source": [
    "f, axes = plt.subplots(1, 2,figsize=(18,8))\n",
    "sns.boxplot(x=house1['Bedrooms'],y=house1['SalePrice'], ax=axes[0])\n",
    "sns.boxplot(x=house1['Floors'],y=house1['SalePrice'], ax=axes[1])\n",
    "sns.despine(left=True, bottom=True)\n",
    "axes[0].set(xlabel='Bedrooms', ylabel='SalePrice')\n",
    "axes[0].yaxis.tick_left()\n",
    "axes[1].yaxis.set_label_position(\"left\")\n",
    "axes[1].yaxis.tick_left()\n",
    "axes[1].set(xlabel='Floors', ylabel='SalePrice')\n",
    "\n",
    "f, axe = plt.subplots(1, 1,figsize=(14,8))\n",
    "sns.despine(left=True, bottom=True)\n",
    "sns.boxplot(x=house1['Bathrooms'],y=house1['SalePrice'], ax=axe)\n",
    "axe.yaxis.tick_left()\n",
    "axe.set(xlabel='Bathrooms', ylabel='SalePrice');"
   ]
  },
  {
   "cell_type": "code",
   "execution_count": 15,
   "metadata": {
    "scrolled": true
   },
   "outputs": [
    {
     "data": {
      "image/png": "[encoded data removed]",
      "text/plain": [
       "<Figure size 1296x576 with 2 Axes>"
      ]
     },
     "metadata": {},
     "output_type": "display_data"
    },
    {
     "data": {
      "image/png": "[encoded data removed]",
      "text/plain": [
       "<Figure size 1008x576 with 1 Axes>"
      ]
     },
     "metadata": {},
     "output_type": "display_data"
    }
   ],
   "source": [
    "f, axes = plt.subplots(1, 2,figsize=(18,8))\n",
    "sns.boxplot(x=house1['Grade'],y=house1['SalePrice'], ax=axes[0])\n",
    "sns.boxplot(x=house1['Waterfront'],y=house1['SalePrice'], ax=axes[1])\n",
    "sns.despine(left=True, bottom=True)\n",
    "axes[0].set(xlabel='Grade', ylabel='SalePrice')\n",
    "axes[0].yaxis.tick_left()\n",
    "axes[1].yaxis.set_label_position(\"left\")\n",
    "axes[1].yaxis.tick_left()\n",
    "axes[1].set(xlabel='Waterfront', ylabel='SalePrice')\n",
    "\n",
    "f, axe = plt.subplots(1, 1,figsize=(14,8))\n",
    "sns.despine(left=True, bottom=True)\n",
    "sns.boxplot(x=house1['View'],y=house1['SalePrice'], ax=axe)\n",
    "axe.yaxis.tick_left()\n",
    "axe.set(xlabel='View', ylabel='SalePrice');"
   ]
  },
  {
   "cell_type": "markdown",
   "metadata": {},
   "source": [
    "We can see that there are outliers present in our features. Determining their possible negative effect will be time consuming and in the real data sets there will always be some outliers like some luxury house prices in this dataset. So we will not be removing outliers."
   ]
  },
  {
   "cell_type": "markdown",
   "metadata": {},
   "source": [
    "### Binning"
   ]
  },
  {
   "cell_type": "markdown",
   "metadata": {},
   "source": [
    "It is a preprocessing technique used to reduce the effects of minor observation errors. It will be worthwhile applying to some columns of this dataset so we have applied binning to YearBuilt and Renovation."
   ]
  },
  {
   "cell_type": "markdown",
   "metadata": {},
   "source": [
    "We will be taking current year as our Sale year i.e. 2020 for our model prediction"
   ]
  },
  {
   "cell_type": "code",
   "execution_count": 16,
   "metadata": {},
   "outputs": [],
   "source": [
    "# just take the year from the date column\n",
    "house1['Sales_yr']=2020\n",
    "\n",
    "# add the age of the buildings when the houses were sold as a new column\n",
    "house1['Age']=house1['Sales_yr'].astype(int)-house1['YearBuilt']\n",
    "\n",
    "# add the age of the renovation when the houses were sold as a new column\n",
    "house1['Age_rnv']=0\n",
    "house1['Age_rnv']=house1['Sales_yr'][house1['Renovation']!=0].astype(int)-house1['Renovation'][house1['Renovation']!=0]\n",
    "house1['Age_rnv'][house1['Age_rnv'].isnull()]=0"
   ]
  },
  {
   "cell_type": "markdown",
   "metadata": {},
   "source": [
    "### Train-Test Split"
   ]
  },
  {
   "cell_type": "code",
   "execution_count": 17,
   "metadata": {},
   "outputs": [],
   "source": [
    "house_new = house1[['Bedrooms', 'Bathrooms','LandSpace', 'Floors', 'Waterfront', 'View', 'Condition', 'Grade',\n",
    "                    'Above_sqft', 'Basement', 'Age','Age_rnv','Latitude', 'Longitude', 'LivingSpace15', 'LandSpace15']]"
   ]
  },
  {
   "cell_type": "code",
   "execution_count": 18,
   "metadata": {},
   "outputs": [],
   "source": [
    "X = house_new.values\n",
    "y = house1.SalePrice.values"
   ]
  },
  {
   "cell_type": "code",
   "execution_count": 19,
   "metadata": {},
   "outputs": [
    {
     "name": "stdout",
     "output_type": "stream",
     "text": [
      "x_train :  (15129, 16)\n",
      "x_test :  (6484, 16)\n",
      "y_train :  (15129,)\n",
      "y_test :  (6484,)\n"
     ]
    }
   ],
   "source": [
    "x_train, x_test, y_train, y_test  = train_test_split(X,y,test_size=0.3,random_state=0)\n",
    "print(\"x_train : \",x_train.shape)\n",
    "print(\"x_test : \",x_test.shape)\n",
    "print(\"y_train : \",y_train.shape)\n",
    "print(\"y_test : \",y_test.shape)"
   ]
  },
  {
   "cell_type": "code",
   "execution_count": 20,
   "metadata": {},
   "outputs": [
    {
     "name": "stdout",
     "output_type": "stream",
     "text": [
      "82000.0\n",
      "7060000.0\n"
     ]
    }
   ],
   "source": [
    "print(min(y_test))\n",
    "print(max(y_test))"
   ]
  },
  {
   "cell_type": "markdown",
   "metadata": {},
   "source": [
    "## Machine Learning Algorithms"
   ]
  },
  {
   "cell_type": "markdown",
   "metadata": {},
   "source": [
    "### Linear Regression"
   ]
  },
  {
   "cell_type": "code",
   "execution_count": 21,
   "metadata": {},
   "outputs": [],
   "source": [
    "start = time()\n",
    "linear = LinearRegression()\n",
    "linear.fit(x_train,y_train)\n",
    "end = time()\n",
    "train_time_lm = end-start"
   ]
  },
  {
   "cell_type": "code",
   "execution_count": 22,
   "metadata": {},
   "outputs": [
    {
     "name": "stdout",
     "output_type": "stream",
     "text": [
      "Score :  0.6809667166762426\n",
      "Variance :  0.5137681811791404\n",
      "RMSE :  209415.03179177767\n"
     ]
    }
   ],
   "source": [
    "lm_score = linear.score(x_test,y_test)\n",
    "print(\"Score : \",lm_score)\n",
    "\n",
    "y_pred_lm = linear.predict(x_test)\n",
    "exp_lm = explained_variance_score(y_pred_lm,y_test)\n",
    "print(\"Variance : \", exp_lm)\n",
    "\n",
    "rmse_lm = np.sqrt(mean_squared_error(y_pred_lm,y_test))\n",
    "print(\"RMSE : \", rmse_lm)"
   ]
  },
  {
   "cell_type": "markdown",
   "metadata": {},
   "source": [
    "### Decision Tree"
   ]
  },
  {
   "cell_type": "code",
   "execution_count": 23,
   "metadata": {},
   "outputs": [],
   "source": [
    "start = time()\n",
    "dec_tree = DecisionTreeRegressor(random_state=0)\n",
    "dec_tree.fit(x_train, y_train)\n",
    "end=time()\n",
    "train_time_tree = end-start"
   ]
  },
  {
   "cell_type": "code",
   "execution_count": 24,
   "metadata": {},
   "outputs": [
    {
     "name": "stdout",
     "output_type": "stream",
     "text": [
      "Score :  0.7121636027610142\n",
      "Variance :  0.7070614341114769\n",
      "RMSE :  198912.79066832107\n"
     ]
    }
   ],
   "source": [
    "tree_score = dec_tree.score(x_test,y_test)\n",
    "print(\"Score : \",tree_score)\n",
    "\n",
    "y_pred_tree = dec_tree.predict(x_test)\n",
    "exp_tree = explained_variance_score(y_pred_tree,y_test)\n",
    "print(\"Variance : \", exp_tree)\n",
    "\n",
    "rmse_tree = np.sqrt(mean_squared_error(y_pred_tree,y_test))\n",
    "print(\"RMSE : \", rmse_tree)"
   ]
  },
  {
   "cell_type": "markdown",
   "metadata": {},
   "source": [
    "### Random Forest"
   ]
  },
  {
   "cell_type": "code",
   "execution_count": 25,
   "metadata": {},
   "outputs": [],
   "source": [
    "start = time()\n",
    "rf = RandomForestRegressor(n_estimators=500,min_samples_split=2,random_state=0)\n",
    "rf.fit(x_train, y_train)\n",
    "end = time()\n",
    "train_time_random = end-start"
   ]
  },
  {
   "cell_type": "code",
   "execution_count": 26,
   "metadata": {},
   "outputs": [
    {
     "name": "stdout",
     "output_type": "stream",
     "text": [
      "Score :  0.8745061520147314\n",
      "Variance :  0.8395640802357109\n",
      "RMSE :  131341.22828880366\n"
     ]
    }
   ],
   "source": [
    "random_score = rf.score(x_test,y_test)\n",
    "print(\"Score : \",random_score)\n",
    "\n",
    "y_pred_random = rf.predict(x_test)\n",
    "exp_random = explained_variance_score(y_pred_random,y_test)\n",
    "print(\"Variance : \", exp_random)\n",
    "\n",
    "rmse_random = np.sqrt(mean_squared_error(y_pred_random,y_test))\n",
    "print(\"RMSE : \", rmse_random)"
   ]
  },
  {
   "cell_type": "markdown",
   "metadata": {},
   "source": [
    "### Gradient Boost"
   ]
  },
  {
   "cell_type": "code",
   "execution_count": 27,
   "metadata": {},
   "outputs": [],
   "source": [
    "start = time()\n",
    "gb = GradientBoostingRegressor(n_estimators=500,min_samples_split=2,learning_rate=0.2,random_state=0)\n",
    "gb.fit(x_train, y_train)\n",
    "end = time()\n",
    "train_time_gradient = end-start"
   ]
  },
  {
   "cell_type": "code",
   "execution_count": 28,
   "metadata": {},
   "outputs": [
    {
     "name": "stdout",
     "output_type": "stream",
     "text": [
      "Score :  0.8945577927983938\n",
      "Variance :  0.8783397592051361\n",
      "RMSE :  120391.85317454791\n"
     ]
    }
   ],
   "source": [
    "gradient_score = gb.score(x_test,y_test)\n",
    "print(\"Score : \",gradient_score)\n",
    "\n",
    "y_pred_gradient = gb.predict(x_test)\n",
    "exp_gradient = explained_variance_score(y_pred_gradient,y_test)\n",
    "print(\"Variance : \", exp_gradient)\n",
    "\n",
    "rmse_gradient = np.sqrt(mean_squared_error(y_pred_gradient,y_test))\n",
    "print(\"RMSE : \", rmse_gradient)"
   ]
  },
  {
   "cell_type": "markdown",
   "metadata": {},
   "source": [
    "### XGBoost"
   ]
  },
  {
   "cell_type": "code",
   "execution_count": 29,
   "metadata": {},
   "outputs": [
    {
     "name": "stdout",
     "output_type": "stream",
     "text": [
      "[23:06:51] WARNING: C:/Jenkins/workspace/xgboost-win64_release_0.90/src/objective/regression_obj.cu:152: reg:linear is now deprecated in favor of reg:squarederror.\n"
     ]
    }
   ],
   "source": [
    "start = time()\n",
    "XGB = XGBRegressor(n_estimators=500,min_samples_split=2,learning_rate=0.2,random_state=0)\n",
    "XGB.fit(x_train, y_train)\n",
    "end = time()\n",
    "train_time_xgb = end-start"
   ]
  },
  {
   "cell_type": "code",
   "execution_count": 30,
   "metadata": {},
   "outputs": [
    {
     "name": "stdout",
     "output_type": "stream",
     "text": [
      "Score :  0.8994822950601048\n",
      "Variance :  0.8832551382103827\n",
      "RMSE :  117546.8884121064\n"
     ]
    }
   ],
   "source": [
    "xgb_score = XGB.score(x_test,y_test)\n",
    "print(\"Score : \",xgb_score)\n",
    "\n",
    "y_pred_XGB = XGB.predict(x_test)\n",
    "exp_xgb = explained_variance_score(y_pred_XGB,y_test)\n",
    "print(\"Variance : \", exp_xgb)\n",
    "\n",
    "rmse_xgb = np.sqrt(mean_squared_error(y_pred_XGB,y_test))\n",
    "print(\"RMSE : \", rmse_xgb)"
   ]
  },
  {
   "cell_type": "markdown",
   "metadata": {},
   "source": [
    "## Comparison of Models"
   ]
  },
  {
   "cell_type": "code",
   "execution_count": 31,
   "metadata": {},
   "outputs": [
    {
     "data": {
      "text/html": [
       "<div>\n",
       "<style scoped>\n",
       "    .dataframe tbody tr th:only-of-type {\n",
       "        vertical-align: middle;\n",
       "    }\n",
       "\n",
       "    .dataframe tbody tr th {\n",
       "        vertical-align: top;\n",
       "    }\n",
       "\n",
       "    .dataframe thead th {\n",
       "        text-align: right;\n",
       "    }\n",
       "</style>\n",
       "<table border=\"1\" class=\"dataframe\">\n",
       "  <thead>\n",
       "    <tr style=\"text-align: right;\">\n",
       "      <th></th>\n",
       "      <th>Model</th>\n",
       "      <th>Score</th>\n",
       "      <th>Variance Score</th>\n",
       "      <th>RMSE</th>\n",
       "    </tr>\n",
       "  </thead>\n",
       "  <tbody>\n",
       "    <tr>\n",
       "      <th>4</th>\n",
       "      <td>XGBoost</td>\n",
       "      <td>0.899482</td>\n",
       "      <td>0.883255</td>\n",
       "      <td>117546.888412</td>\n",
       "    </tr>\n",
       "    <tr>\n",
       "      <th>3</th>\n",
       "      <td>Gradient Boosting</td>\n",
       "      <td>0.894558</td>\n",
       "      <td>0.878340</td>\n",
       "      <td>120391.853175</td>\n",
       "    </tr>\n",
       "    <tr>\n",
       "      <th>2</th>\n",
       "      <td>Random Forest</td>\n",
       "      <td>0.874506</td>\n",
       "      <td>0.839564</td>\n",
       "      <td>131341.228289</td>\n",
       "    </tr>\n",
       "    <tr>\n",
       "      <th>1</th>\n",
       "      <td>Decision Tree</td>\n",
       "      <td>0.712164</td>\n",
       "      <td>0.707061</td>\n",
       "      <td>198912.790668</td>\n",
       "    </tr>\n",
       "    <tr>\n",
       "      <th>0</th>\n",
       "      <td>Linear Regression</td>\n",
       "      <td>0.680967</td>\n",
       "      <td>0.513768</td>\n",
       "      <td>209415.031792</td>\n",
       "    </tr>\n",
       "  </tbody>\n",
       "</table>\n",
       "</div>"
      ],
      "text/plain": [
       "               Model     Score  Variance Score           RMSE\n",
       "4            XGBoost  0.899482        0.883255  117546.888412\n",
       "3  Gradient Boosting  0.894558        0.878340  120391.853175\n",
       "2      Random Forest  0.874506        0.839564  131341.228289\n",
       "1      Decision Tree  0.712164        0.707061  198912.790668\n",
       "0  Linear Regression  0.680967        0.513768  209415.031792"
      ]
     },
     "execution_count": 31,
     "metadata": {},
     "output_type": "execute_result"
    }
   ],
   "source": [
    "models_cross = pd.DataFrame({\n",
    "    'Model': ['Linear Regression','Decision Tree','Random Forest','Gradient Boosting','XGBoost'],\n",
    "    'Score': [lm_score, tree_score, random_score, gradient_score, xgb_score],\n",
    "    'Variance Score': [exp_lm, exp_tree, exp_random, exp_gradient, exp_xgb],\n",
    "    'RMSE': [rmse_lm, rmse_tree, rmse_random, rmse_gradient, rmse_xgb]})\n",
    "    \n",
    "models_cross.sort_values(by='Score', ascending=False)"
   ]
  },
  {
   "cell_type": "code",
   "execution_count": 34,
   "metadata": {},
   "outputs": [
    {
     "data": {
      "image/png": "[encoded data removed]",
      "text/plain": [
       "<Figure size 720x432 with 1 Axes>"
      ]
     },
     "metadata": {},
     "output_type": "display_data"
    }
   ],
   "source": [
    "model = ['Linear Regression','Decision Tree','Random Forest','Gradient Boosting','XGBoost']\n",
    "Train_Time = [\n",
    "    train_time_lm,\n",
    "    train_time_tree,\n",
    "    train_time_random,\n",
    "    train_time_gradient,\n",
    "    train_time_xgb\n",
    "    \n",
    "]\n",
    "index = np.arange(len(model))\n",
    "plt.figure(figsize=(10,6))\n",
    "plt.bar(index, Train_Time)\n",
    "plt.xlabel('Machine Learning Models', fontsize=15)\n",
    "plt.ylabel('Training Time', fontsize=15)\n",
    "plt.xticks(index, model, fontsize=10, )\n",
    "plt.title('Comparison of Training Time of all ML models')\n",
    "plt.show()"
   ]
  },
  {
   "cell_type": "markdown",
   "metadata": {},
   "source": [
    "From the above figure it is inferred that Linear Regression and Decision tree has taken negligible amount of time to train where as Random forest has taken maximum time and it is yet obvious because as we increase the number of tree 500 in this case training time will increase so we should look out for optimal model which has greater accuracy and less training time in comparison to other. "
   ]
  },
  {
   "cell_type": "markdown",
   "metadata": {},
   "source": [
    "## Conclusion"
   ]
  },
  {
   "cell_type": "markdown",
   "metadata": {},
   "source": [
    "We conclude that <b>XGBoost</b> as the best predictive model as its accuracy is highest (i.e. <b>89.95%</b>), highest variance score (i.e. <b>0.88</b>) which is very close to 1 and it took less training time w.r.t accuracy. Also it gives less RMSE score (i.e. <b>117546.89</b>) than other models."
   ]
  }
 ],
 "metadata": {
  "kernelspec": {
   "display_name": "Python 3",
   "language": "python",
   "name": "python3"
  },
  "language_info": {
   "codemirror_mode": {
    "name": "ipython",
    "version": 3
   },
   "file_extension": ".py",
   "mimetype": "text/x-python",
   "name": "python",
   "nbconvert_exporter": "python",
   "pygments_lexer": "ipython3",
   "version": "3.7.4"
  }
 },
 "nbformat": 4,
 "nbformat_minor": 4
}
